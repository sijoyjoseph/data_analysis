{
 "cells": [
  {
   "cell_type": "code",
   "execution_count": 302,
   "metadata": {
    "collapsed": false
   },
   "outputs": [
    {
     "data": {
      "text/html": [
       "<div>\n",
       "<table border=\"1\" class=\"dataframe\">\n",
       "  <thead>\n",
       "    <tr style=\"text-align: right;\">\n",
       "      <th></th>\n",
       "      <th>ts</th>\n",
       "      <th>temp</th>\n",
       "      <th>rh</th>\n",
       "    </tr>\n",
       "  </thead>\n",
       "  <tbody>\n",
       "    <tr>\n",
       "      <th>0</th>\n",
       "      <td>1464340928</td>\n",
       "      <td>31.40</td>\n",
       "      <td>43.96</td>\n",
       "    </tr>\n",
       "    <tr>\n",
       "      <th>1</th>\n",
       "      <td>1464340958</td>\n",
       "      <td>33.03</td>\n",
       "      <td>46.10</td>\n",
       "    </tr>\n",
       "    <tr>\n",
       "      <th>2</th>\n",
       "      <td>1464340987</td>\n",
       "      <td>33.08</td>\n",
       "      <td>46.43</td>\n",
       "    </tr>\n",
       "    <tr>\n",
       "      <th>3</th>\n",
       "      <td>1464341017</td>\n",
       "      <td>33.08</td>\n",
       "      <td>46.44</td>\n",
       "    </tr>\n",
       "    <tr>\n",
       "      <th>4</th>\n",
       "      <td>1464341047</td>\n",
       "      <td>33.08</td>\n",
       "      <td>46.44</td>\n",
       "    </tr>\n",
       "  </tbody>\n",
       "</table>\n",
       "</div>"
      ],
      "text/plain": [
       "           ts   temp     rh\n",
       "0  1464340928  31.40  43.96\n",
       "1  1464340958  33.03  46.10\n",
       "2  1464340987  33.08  46.43\n",
       "3  1464341017  33.08  46.44\n",
       "4  1464341047  33.08  46.44"
      ]
     },
     "execution_count": 302,
     "metadata": {},
     "output_type": "execute_result"
    }
   ],
   "source": [
    "from __future__ import division\n",
    "import pandas as pd\n",
    "import numpy as np\n",
    "\n",
    "cols_paqs = ['ts', 'temp', 'rh']\n",
    "cols_airport = ['valid', 'tmpf', 'RH']\n",
    "\n",
    "f_paqs = '..//datasets/10-Aug//BANG_PAQS.csv'\n",
    "f_airport = '..//datasets//10-Aug//bangalore.csv'\n",
    "\n",
    "df_paqs = pd.read_csv(f_paqs, usecols=cols_paqs)\n",
    "df_paqs.head()"
   ]
  },
  {
   "cell_type": "code",
   "execution_count": 303,
   "metadata": {
    "collapsed": false
   },
   "outputs": [
    {
     "data": {
      "text/html": [
       "<div>\n",
       "<table border=\"1\" class=\"dataframe\">\n",
       "  <thead>\n",
       "    <tr style=\"text-align: right;\">\n",
       "      <th></th>\n",
       "      <th>valid</th>\n",
       "      <th>tmpf</th>\n",
       "      <th>RH</th>\n",
       "    </tr>\n",
       "  </thead>\n",
       "  <tbody>\n",
       "    <tr>\n",
       "      <th>0</th>\n",
       "      <td>2016-01-01 00:00</td>\n",
       "      <td>66.20</td>\n",
       "      <td>100.00</td>\n",
       "    </tr>\n",
       "    <tr>\n",
       "      <th>1</th>\n",
       "      <td>2016-01-01 00:30</td>\n",
       "      <td>66.20</td>\n",
       "      <td>100.00</td>\n",
       "    </tr>\n",
       "    <tr>\n",
       "      <th>2</th>\n",
       "      <td>2016-01-01 01:00</td>\n",
       "      <td>66.20</td>\n",
       "      <td>100.00</td>\n",
       "    </tr>\n",
       "    <tr>\n",
       "      <th>3</th>\n",
       "      <td>2016-01-01 01:30</td>\n",
       "      <td>64.40</td>\n",
       "      <td>100.00</td>\n",
       "    </tr>\n",
       "    <tr>\n",
       "      <th>4</th>\n",
       "      <td>2016-01-01 02:00</td>\n",
       "      <td>66.20</td>\n",
       "      <td>100.00</td>\n",
       "    </tr>\n",
       "  </tbody>\n",
       "</table>\n",
       "</div>"
      ],
      "text/plain": [
       "              valid   tmpf      RH\n",
       "0  2016-01-01 00:00  66.20  100.00\n",
       "1  2016-01-01 00:30  66.20  100.00\n",
       "2  2016-01-01 01:00  66.20  100.00\n",
       "3  2016-01-01 01:30  64.40  100.00\n",
       "4  2016-01-01 02:00  66.20  100.00"
      ]
     },
     "execution_count": 303,
     "metadata": {},
     "output_type": "execute_result"
    }
   ],
   "source": [
    "df_airport = pd.read_csv(f_airport, usecols=cols_airport)\n",
    "df_airport.head()"
   ]
  },
  {
   "cell_type": "code",
   "execution_count": 304,
   "metadata": {
    "collapsed": false
   },
   "outputs": [
    {
     "data": {
      "text/plain": [
       "ts        int64\n",
       "temp    float64\n",
       "rh      float64\n",
       "dtype: object"
      ]
     },
     "execution_count": 304,
     "metadata": {},
     "output_type": "execute_result"
    }
   ],
   "source": [
    "df_paqs.dtypes"
   ]
  },
  {
   "cell_type": "code",
   "execution_count": 305,
   "metadata": {
    "collapsed": false
   },
   "outputs": [
    {
     "data": {
      "text/plain": [
       "valid    object\n",
       "tmpf     object\n",
       "RH       object\n",
       "dtype: object"
      ]
     },
     "execution_count": 305,
     "metadata": {},
     "output_type": "execute_result"
    }
   ],
   "source": [
    "df_airport.dtypes"
   ]
  },
  {
   "cell_type": "code",
   "execution_count": 306,
   "metadata": {
    "collapsed": false
   },
   "outputs": [
    {
     "data": {
      "text/html": [
       "<div>\n",
       "<table border=\"1\" class=\"dataframe\">\n",
       "  <thead>\n",
       "    <tr style=\"text-align: right;\">\n",
       "      <th></th>\n",
       "      <th>ts</th>\n",
       "      <th>Temp_paqs</th>\n",
       "      <th>RH_paqs</th>\n",
       "    </tr>\n",
       "  </thead>\n",
       "  <tbody>\n",
       "    <tr>\n",
       "      <th>0</th>\n",
       "      <td>1464340928</td>\n",
       "      <td>31.40</td>\n",
       "      <td>43.96</td>\n",
       "    </tr>\n",
       "    <tr>\n",
       "      <th>1</th>\n",
       "      <td>1464340958</td>\n",
       "      <td>33.03</td>\n",
       "      <td>46.10</td>\n",
       "    </tr>\n",
       "    <tr>\n",
       "      <th>2</th>\n",
       "      <td>1464340987</td>\n",
       "      <td>33.08</td>\n",
       "      <td>46.43</td>\n",
       "    </tr>\n",
       "    <tr>\n",
       "      <th>3</th>\n",
       "      <td>1464341017</td>\n",
       "      <td>33.08</td>\n",
       "      <td>46.44</td>\n",
       "    </tr>\n",
       "    <tr>\n",
       "      <th>4</th>\n",
       "      <td>1464341047</td>\n",
       "      <td>33.08</td>\n",
       "      <td>46.44</td>\n",
       "    </tr>\n",
       "  </tbody>\n",
       "</table>\n",
       "</div>"
      ],
      "text/plain": [
       "           ts  Temp_paqs  RH_paqs\n",
       "0  1464340928      31.40    43.96\n",
       "1  1464340958      33.03    46.10\n",
       "2  1464340987      33.08    46.43\n",
       "3  1464341017      33.08    46.44\n",
       "4  1464341047      33.08    46.44"
      ]
     },
     "execution_count": 306,
     "metadata": {},
     "output_type": "execute_result"
    }
   ],
   "source": [
    "df_paqs = df_paqs.rename(columns={'temp': 'Temp_paqs', 'rh': 'RH_paqs'})\n",
    "df_paqs.head()"
   ]
  },
  {
   "cell_type": "code",
   "execution_count": 307,
   "metadata": {
    "collapsed": false
   },
   "outputs": [
    {
     "data": {
      "text/html": [
       "<div>\n",
       "<table border=\"1\" class=\"dataframe\">\n",
       "  <thead>\n",
       "    <tr style=\"text-align: right;\">\n",
       "      <th></th>\n",
       "      <th>ts</th>\n",
       "      <th>Temp_airport</th>\n",
       "      <th>RH_airport</th>\n",
       "    </tr>\n",
       "  </thead>\n",
       "  <tbody>\n",
       "    <tr>\n",
       "      <th>0</th>\n",
       "      <td>2016-01-01 00:00</td>\n",
       "      <td>66.20</td>\n",
       "      <td>100.00</td>\n",
       "    </tr>\n",
       "    <tr>\n",
       "      <th>1</th>\n",
       "      <td>2016-01-01 00:30</td>\n",
       "      <td>66.20</td>\n",
       "      <td>100.00</td>\n",
       "    </tr>\n",
       "    <tr>\n",
       "      <th>2</th>\n",
       "      <td>2016-01-01 01:00</td>\n",
       "      <td>66.20</td>\n",
       "      <td>100.00</td>\n",
       "    </tr>\n",
       "    <tr>\n",
       "      <th>3</th>\n",
       "      <td>2016-01-01 01:30</td>\n",
       "      <td>64.40</td>\n",
       "      <td>100.00</td>\n",
       "    </tr>\n",
       "    <tr>\n",
       "      <th>4</th>\n",
       "      <td>2016-01-01 02:00</td>\n",
       "      <td>66.20</td>\n",
       "      <td>100.00</td>\n",
       "    </tr>\n",
       "  </tbody>\n",
       "</table>\n",
       "</div>"
      ],
      "text/plain": [
       "                 ts Temp_airport RH_airport\n",
       "0  2016-01-01 00:00        66.20     100.00\n",
       "1  2016-01-01 00:30        66.20     100.00\n",
       "2  2016-01-01 01:00        66.20     100.00\n",
       "3  2016-01-01 01:30        64.40     100.00\n",
       "4  2016-01-01 02:00        66.20     100.00"
      ]
     },
     "execution_count": 307,
     "metadata": {},
     "output_type": "execute_result"
    }
   ],
   "source": [
    "df_airport = df_airport.rename(columns={'valid': 'ts', 'tmpf': 'Temp_airport', 'RH': 'RH_airport'})\n",
    "df_airport.head()"
   ]
  },
  {
   "cell_type": "code",
   "execution_count": 308,
   "metadata": {
    "collapsed": false
   },
   "outputs": [
    {
     "data": {
      "text/html": [
       "<div>\n",
       "<table border=\"1\" class=\"dataframe\">\n",
       "  <thead>\n",
       "    <tr style=\"text-align: right;\">\n",
       "      <th></th>\n",
       "      <th>ts</th>\n",
       "      <th>Temp_paqs</th>\n",
       "      <th>RH_paqs</th>\n",
       "    </tr>\n",
       "  </thead>\n",
       "  <tbody>\n",
       "    <tr>\n",
       "      <th>0</th>\n",
       "      <td>2016-05-27 09:22:08</td>\n",
       "      <td>31.40</td>\n",
       "      <td>43.96</td>\n",
       "    </tr>\n",
       "    <tr>\n",
       "      <th>1</th>\n",
       "      <td>2016-05-27 09:22:38</td>\n",
       "      <td>33.03</td>\n",
       "      <td>46.10</td>\n",
       "    </tr>\n",
       "    <tr>\n",
       "      <th>2</th>\n",
       "      <td>2016-05-27 09:23:07</td>\n",
       "      <td>33.08</td>\n",
       "      <td>46.43</td>\n",
       "    </tr>\n",
       "    <tr>\n",
       "      <th>3</th>\n",
       "      <td>2016-05-27 09:23:37</td>\n",
       "      <td>33.08</td>\n",
       "      <td>46.44</td>\n",
       "    </tr>\n",
       "    <tr>\n",
       "      <th>4</th>\n",
       "      <td>2016-05-27 09:24:07</td>\n",
       "      <td>33.08</td>\n",
       "      <td>46.44</td>\n",
       "    </tr>\n",
       "  </tbody>\n",
       "</table>\n",
       "</div>"
      ],
      "text/plain": [
       "                   ts  Temp_paqs  RH_paqs\n",
       "0 2016-05-27 09:22:08      31.40    43.96\n",
       "1 2016-05-27 09:22:38      33.03    46.10\n",
       "2 2016-05-27 09:23:07      33.08    46.43\n",
       "3 2016-05-27 09:23:37      33.08    46.44\n",
       "4 2016-05-27 09:24:07      33.08    46.44"
      ]
     },
     "execution_count": 308,
     "metadata": {},
     "output_type": "execute_result"
    }
   ],
   "source": [
    "df_paqs['ts'] = pd.to_datetime(df_paqs['ts'], unit='s')\n",
    "df_paqs.head()"
   ]
  },
  {
   "cell_type": "code",
   "execution_count": 309,
   "metadata": {
    "collapsed": false
   },
   "outputs": [
    {
     "data": {
      "text/plain": [
       "ts           datetime64[ns]\n",
       "Temp_paqs           float64\n",
       "RH_paqs             float64\n",
       "dtype: object"
      ]
     },
     "execution_count": 309,
     "metadata": {},
     "output_type": "execute_result"
    }
   ],
   "source": [
    "df_paqs.dtypes"
   ]
  },
  {
   "cell_type": "code",
   "execution_count": 310,
   "metadata": {
    "collapsed": true
   },
   "outputs": [],
   "source": [
    "df_paqs = df_paqs.set_index(['ts'])"
   ]
  },
  {
   "cell_type": "code",
   "execution_count": 311,
   "metadata": {
    "collapsed": false
   },
   "outputs": [
    {
     "data": {
      "text/html": [
       "<div>\n",
       "<table border=\"1\" class=\"dataframe\">\n",
       "  <thead>\n",
       "    <tr style=\"text-align: right;\">\n",
       "      <th></th>\n",
       "      <th>Temp_paqs</th>\n",
       "      <th>RH_paqs</th>\n",
       "    </tr>\n",
       "    <tr>\n",
       "      <th>ts</th>\n",
       "      <th></th>\n",
       "      <th></th>\n",
       "    </tr>\n",
       "  </thead>\n",
       "  <tbody>\n",
       "    <tr>\n",
       "      <th>2016-05-27 09:22:08</th>\n",
       "      <td>31.40</td>\n",
       "      <td>43.96</td>\n",
       "    </tr>\n",
       "    <tr>\n",
       "      <th>2016-05-27 09:22:38</th>\n",
       "      <td>33.03</td>\n",
       "      <td>46.10</td>\n",
       "    </tr>\n",
       "    <tr>\n",
       "      <th>2016-05-27 09:23:07</th>\n",
       "      <td>33.08</td>\n",
       "      <td>46.43</td>\n",
       "    </tr>\n",
       "    <tr>\n",
       "      <th>2016-05-27 09:23:37</th>\n",
       "      <td>33.08</td>\n",
       "      <td>46.44</td>\n",
       "    </tr>\n",
       "    <tr>\n",
       "      <th>2016-05-27 09:24:07</th>\n",
       "      <td>33.08</td>\n",
       "      <td>46.44</td>\n",
       "    </tr>\n",
       "  </tbody>\n",
       "</table>\n",
       "</div>"
      ],
      "text/plain": [
       "                     Temp_paqs  RH_paqs\n",
       "ts                                     \n",
       "2016-05-27 09:22:08      31.40    43.96\n",
       "2016-05-27 09:22:38      33.03    46.10\n",
       "2016-05-27 09:23:07      33.08    46.43\n",
       "2016-05-27 09:23:37      33.08    46.44\n",
       "2016-05-27 09:24:07      33.08    46.44"
      ]
     },
     "execution_count": 311,
     "metadata": {},
     "output_type": "execute_result"
    }
   ],
   "source": [
    "df_paqs.head()"
   ]
  },
  {
   "cell_type": "code",
   "execution_count": 312,
   "metadata": {
    "collapsed": false
   },
   "outputs": [
    {
     "data": {
      "text/html": [
       "<div>\n",
       "<table border=\"1\" class=\"dataframe\">\n",
       "  <thead>\n",
       "    <tr style=\"text-align: right;\">\n",
       "      <th></th>\n",
       "      <th>Temp_paqs</th>\n",
       "      <th>RH_paqs</th>\n",
       "    </tr>\n",
       "    <tr>\n",
       "      <th>ts</th>\n",
       "      <th></th>\n",
       "      <th></th>\n",
       "    </tr>\n",
       "  </thead>\n",
       "  <tbody>\n",
       "    <tr>\n",
       "      <th>2016-05-27 14:52:08+05:30</th>\n",
       "      <td>31.40</td>\n",
       "      <td>43.96</td>\n",
       "    </tr>\n",
       "    <tr>\n",
       "      <th>2016-05-27 14:52:38+05:30</th>\n",
       "      <td>33.03</td>\n",
       "      <td>46.10</td>\n",
       "    </tr>\n",
       "    <tr>\n",
       "      <th>2016-05-27 14:53:07+05:30</th>\n",
       "      <td>33.08</td>\n",
       "      <td>46.43</td>\n",
       "    </tr>\n",
       "    <tr>\n",
       "      <th>2016-05-27 14:53:37+05:30</th>\n",
       "      <td>33.08</td>\n",
       "      <td>46.44</td>\n",
       "    </tr>\n",
       "    <tr>\n",
       "      <th>2016-05-27 14:54:07+05:30</th>\n",
       "      <td>33.08</td>\n",
       "      <td>46.44</td>\n",
       "    </tr>\n",
       "  </tbody>\n",
       "</table>\n",
       "</div>"
      ],
      "text/plain": [
       "                           Temp_paqs  RH_paqs\n",
       "ts                                           \n",
       "2016-05-27 14:52:08+05:30      31.40    43.96\n",
       "2016-05-27 14:52:38+05:30      33.03    46.10\n",
       "2016-05-27 14:53:07+05:30      33.08    46.43\n",
       "2016-05-27 14:53:37+05:30      33.08    46.44\n",
       "2016-05-27 14:54:07+05:30      33.08    46.44"
      ]
     },
     "execution_count": 312,
     "metadata": {},
     "output_type": "execute_result"
    }
   ],
   "source": [
    "df_paqs = df_paqs.tz_localize('UTC').tz_convert('Asia/Kolkata')\n",
    "df_paqs.head()"
   ]
  },
  {
   "cell_type": "code",
   "execution_count": 313,
   "metadata": {
    "collapsed": false
   },
   "outputs": [
    {
     "data": {
      "text/html": [
       "<div>\n",
       "<table border=\"1\" class=\"dataframe\">\n",
       "  <thead>\n",
       "    <tr style=\"text-align: right;\">\n",
       "      <th></th>\n",
       "      <th>ts</th>\n",
       "      <th>Temp_airport</th>\n",
       "      <th>RH_airport</th>\n",
       "    </tr>\n",
       "  </thead>\n",
       "  <tbody>\n",
       "    <tr>\n",
       "      <th>0</th>\n",
       "      <td>2016-01-01 00:00:00</td>\n",
       "      <td>66.20</td>\n",
       "      <td>100.00</td>\n",
       "    </tr>\n",
       "    <tr>\n",
       "      <th>1</th>\n",
       "      <td>2016-01-01 00:30:00</td>\n",
       "      <td>66.20</td>\n",
       "      <td>100.00</td>\n",
       "    </tr>\n",
       "    <tr>\n",
       "      <th>2</th>\n",
       "      <td>2016-01-01 01:00:00</td>\n",
       "      <td>66.20</td>\n",
       "      <td>100.00</td>\n",
       "    </tr>\n",
       "    <tr>\n",
       "      <th>3</th>\n",
       "      <td>2016-01-01 01:30:00</td>\n",
       "      <td>64.40</td>\n",
       "      <td>100.00</td>\n",
       "    </tr>\n",
       "    <tr>\n",
       "      <th>4</th>\n",
       "      <td>2016-01-01 02:00:00</td>\n",
       "      <td>66.20</td>\n",
       "      <td>100.00</td>\n",
       "    </tr>\n",
       "  </tbody>\n",
       "</table>\n",
       "</div>"
      ],
      "text/plain": [
       "                   ts Temp_airport RH_airport\n",
       "0 2016-01-01 00:00:00        66.20     100.00\n",
       "1 2016-01-01 00:30:00        66.20     100.00\n",
       "2 2016-01-01 01:00:00        66.20     100.00\n",
       "3 2016-01-01 01:30:00        64.40     100.00\n",
       "4 2016-01-01 02:00:00        66.20     100.00"
      ]
     },
     "execution_count": 313,
     "metadata": {},
     "output_type": "execute_result"
    }
   ],
   "source": [
    "df_airport['ts'] = pd.to_datetime(df_airport['ts'], format='%Y-%m-%d %H:%M')\n",
    "df_airport.head()"
   ]
  },
  {
   "cell_type": "code",
   "execution_count": 314,
   "metadata": {
    "collapsed": false
   },
   "outputs": [
    {
     "data": {
      "text/plain": [
       "ts              datetime64[ns]\n",
       "Temp_airport            object\n",
       "RH_airport              object\n",
       "dtype: object"
      ]
     },
     "execution_count": 314,
     "metadata": {},
     "output_type": "execute_result"
    }
   ],
   "source": [
    "df_airport.dtypes"
   ]
  },
  {
   "cell_type": "code",
   "execution_count": 315,
   "metadata": {
    "collapsed": false
   },
   "outputs": [
    {
     "data": {
      "text/html": [
       "<div>\n",
       "<table border=\"1\" class=\"dataframe\">\n",
       "  <thead>\n",
       "    <tr style=\"text-align: right;\">\n",
       "      <th></th>\n",
       "      <th>Temp_airport</th>\n",
       "      <th>RH_airport</th>\n",
       "    </tr>\n",
       "    <tr>\n",
       "      <th>ts</th>\n",
       "      <th></th>\n",
       "      <th></th>\n",
       "    </tr>\n",
       "  </thead>\n",
       "  <tbody>\n",
       "    <tr>\n",
       "      <th>2016-01-01 00:00:00</th>\n",
       "      <td>66.20</td>\n",
       "      <td>100.00</td>\n",
       "    </tr>\n",
       "    <tr>\n",
       "      <th>2016-01-01 00:30:00</th>\n",
       "      <td>66.20</td>\n",
       "      <td>100.00</td>\n",
       "    </tr>\n",
       "    <tr>\n",
       "      <th>2016-01-01 01:00:00</th>\n",
       "      <td>66.20</td>\n",
       "      <td>100.00</td>\n",
       "    </tr>\n",
       "    <tr>\n",
       "      <th>2016-01-01 01:30:00</th>\n",
       "      <td>64.40</td>\n",
       "      <td>100.00</td>\n",
       "    </tr>\n",
       "    <tr>\n",
       "      <th>2016-01-01 02:00:00</th>\n",
       "      <td>66.20</td>\n",
       "      <td>100.00</td>\n",
       "    </tr>\n",
       "  </tbody>\n",
       "</table>\n",
       "</div>"
      ],
      "text/plain": [
       "                    Temp_airport RH_airport\n",
       "ts                                         \n",
       "2016-01-01 00:00:00        66.20     100.00\n",
       "2016-01-01 00:30:00        66.20     100.00\n",
       "2016-01-01 01:00:00        66.20     100.00\n",
       "2016-01-01 01:30:00        64.40     100.00\n",
       "2016-01-01 02:00:00        66.20     100.00"
      ]
     },
     "execution_count": 315,
     "metadata": {},
     "output_type": "execute_result"
    }
   ],
   "source": [
    "df_airport = df_airport.set_index(['ts'])\n",
    "df_airport.head()"
   ]
  },
  {
   "cell_type": "code",
   "execution_count": 316,
   "metadata": {
    "collapsed": false
   },
   "outputs": [
    {
     "data": {
      "text/plain": [
       "Temp_airport    object\n",
       "RH_airport      object\n",
       "dtype: object"
      ]
     },
     "execution_count": 316,
     "metadata": {},
     "output_type": "execute_result"
    }
   ],
   "source": [
    "df_airport.dtypes"
   ]
  },
  {
   "cell_type": "code",
   "execution_count": 317,
   "metadata": {
    "collapsed": false
   },
   "outputs": [
    {
     "data": {
      "text/html": [
       "<div>\n",
       "<table border=\"1\" class=\"dataframe\">\n",
       "  <thead>\n",
       "    <tr style=\"text-align: right;\">\n",
       "      <th></th>\n",
       "      <th>Temp_airport</th>\n",
       "      <th>RH_airport</th>\n",
       "    </tr>\n",
       "    <tr>\n",
       "      <th>ts</th>\n",
       "      <th></th>\n",
       "      <th></th>\n",
       "    </tr>\n",
       "  </thead>\n",
       "  <tbody>\n",
       "    <tr>\n",
       "      <th>2016-01-01 00:00:00</th>\n",
       "      <td>19.0</td>\n",
       "      <td>100.0</td>\n",
       "    </tr>\n",
       "    <tr>\n",
       "      <th>2016-01-01 00:30:00</th>\n",
       "      <td>19.0</td>\n",
       "      <td>100.0</td>\n",
       "    </tr>\n",
       "    <tr>\n",
       "      <th>2016-01-01 01:00:00</th>\n",
       "      <td>19.0</td>\n",
       "      <td>100.0</td>\n",
       "    </tr>\n",
       "    <tr>\n",
       "      <th>2016-01-01 01:30:00</th>\n",
       "      <td>18.0</td>\n",
       "      <td>100.0</td>\n",
       "    </tr>\n",
       "    <tr>\n",
       "      <th>2016-01-01 02:00:00</th>\n",
       "      <td>19.0</td>\n",
       "      <td>100.0</td>\n",
       "    </tr>\n",
       "  </tbody>\n",
       "</table>\n",
       "</div>"
      ],
      "text/plain": [
       "                     Temp_airport  RH_airport\n",
       "ts                                           \n",
       "2016-01-01 00:00:00          19.0       100.0\n",
       "2016-01-01 00:30:00          19.0       100.0\n",
       "2016-01-01 01:00:00          19.0       100.0\n",
       "2016-01-01 01:30:00          18.0       100.0\n",
       "2016-01-01 02:00:00          19.0       100.0"
      ]
     },
     "execution_count": 317,
     "metadata": {},
     "output_type": "execute_result"
    }
   ],
   "source": [
    "df_airport = df_airport[df_airport.Temp_airport != 'M']\n",
    "df_airport = df_airport[df_airport.RH_airport != 'M']\n",
    "df_airport['Temp_airport'] = df_airport['Temp_airport'].apply(lambda x: ((float(x)-32)*(5/9)))\n",
    "df_airport['RH_airport'] = df_airport['RH_airport'].apply(lambda x: float(x))\n",
    "df_airport.head()"
   ]
  },
  {
   "cell_type": "code",
   "execution_count": 318,
   "metadata": {
    "collapsed": false
   },
   "outputs": [
    {
     "data": {
      "text/plain": [
       "Temp_airport    float64\n",
       "RH_airport      float64\n",
       "dtype: object"
      ]
     },
     "execution_count": 318,
     "metadata": {},
     "output_type": "execute_result"
    }
   ],
   "source": [
    "df_airport.dtypes"
   ]
  },
  {
   "cell_type": "code",
   "execution_count": 319,
   "metadata": {
    "collapsed": false
   },
   "outputs": [],
   "source": [
    "df_airport = df_airport.tz_localize('Asia/Kolkata')\n",
    "df_paqs = df_paqs.resample('1H').mean()\n",
    "df_airport = df_airport.resample('1H').mean()\n",
    "df_paqs = df_paqs.reset_index()\n",
    "df_airport = df_airport.reset_index()\n",
    "df_merged = pd.merge(df_paqs, df_airport, on='ts')\n",
    "df_airport = df_airport.set_index(['ts'])\n",
    "df_paqs = df_paqs.set_index(['ts'])\n",
    "df_merged = df_merged.set_index(['ts'])"
   ]
  },
  {
   "cell_type": "code",
   "execution_count": 320,
   "metadata": {
    "collapsed": false
   },
   "outputs": [],
   "source": [
    "df_paqs = df_paqs.groupby([df_paqs.index.month, df_paqs.index.hour]).mean()"
   ]
  },
  {
   "cell_type": "code",
   "execution_count": 321,
   "metadata": {
    "collapsed": false
   },
   "outputs": [
    {
     "data": {
      "text/html": [
       "<div>\n",
       "<table border=\"1\" class=\"dataframe\">\n",
       "  <thead>\n",
       "    <tr style=\"text-align: right;\">\n",
       "      <th></th>\n",
       "      <th></th>\n",
       "      <th>Temp_paqs</th>\n",
       "      <th>RH_paqs</th>\n",
       "    </tr>\n",
       "  </thead>\n",
       "  <tbody>\n",
       "    <tr>\n",
       "      <th rowspan=\"5\" valign=\"top\">1</th>\n",
       "      <th>0</th>\n",
       "      <td>22.301684</td>\n",
       "      <td>66.430875</td>\n",
       "    </tr>\n",
       "    <tr>\n",
       "      <th>1</th>\n",
       "      <td>22.698600</td>\n",
       "      <td>64.493302</td>\n",
       "    </tr>\n",
       "    <tr>\n",
       "      <th>2</th>\n",
       "      <td>23.520563</td>\n",
       "      <td>61.566777</td>\n",
       "    </tr>\n",
       "    <tr>\n",
       "      <th>3</th>\n",
       "      <td>23.727815</td>\n",
       "      <td>61.023821</td>\n",
       "    </tr>\n",
       "    <tr>\n",
       "      <th>4</th>\n",
       "      <td>24.314214</td>\n",
       "      <td>58.438189</td>\n",
       "    </tr>\n",
       "  </tbody>\n",
       "</table>\n",
       "</div>"
      ],
      "text/plain": [
       "     Temp_paqs    RH_paqs\n",
       "1 0  22.301684  66.430875\n",
       "  1  22.698600  64.493302\n",
       "  2  23.520563  61.566777\n",
       "  3  23.727815  61.023821\n",
       "  4  24.314214  58.438189"
      ]
     },
     "execution_count": 321,
     "metadata": {},
     "output_type": "execute_result"
    }
   ],
   "source": [
    "df_paqs.head()"
   ]
  },
  {
   "cell_type": "code",
   "execution_count": 322,
   "metadata": {
    "collapsed": true
   },
   "outputs": [],
   "source": [
    "df_airport = df_airport.groupby([df_airport.index.month, df_airport.index.hour]).mean()"
   ]
  },
  {
   "cell_type": "code",
   "execution_count": 323,
   "metadata": {
    "collapsed": false
   },
   "outputs": [
    {
     "data": {
      "text/html": [
       "<div>\n",
       "<table border=\"1\" class=\"dataframe\">\n",
       "  <thead>\n",
       "    <tr style=\"text-align: right;\">\n",
       "      <th></th>\n",
       "      <th></th>\n",
       "      <th>Temp_airport</th>\n",
       "      <th>RH_airport</th>\n",
       "    </tr>\n",
       "  </thead>\n",
       "  <tbody>\n",
       "    <tr>\n",
       "      <th rowspan=\"5\" valign=\"top\">1</th>\n",
       "      <th>0</th>\n",
       "      <td>16.954802</td>\n",
       "      <td>99.485085</td>\n",
       "    </tr>\n",
       "    <tr>\n",
       "      <th>1</th>\n",
       "      <td>16.785714</td>\n",
       "      <td>99.724464</td>\n",
       "    </tr>\n",
       "    <tr>\n",
       "      <th>2</th>\n",
       "      <td>17.621212</td>\n",
       "      <td>99.134424</td>\n",
       "    </tr>\n",
       "    <tr>\n",
       "      <th>3</th>\n",
       "      <td>19.994536</td>\n",
       "      <td>93.237732</td>\n",
       "    </tr>\n",
       "    <tr>\n",
       "      <th>4</th>\n",
       "      <td>22.814516</td>\n",
       "      <td>72.741774</td>\n",
       "    </tr>\n",
       "  </tbody>\n",
       "</table>\n",
       "</div>"
      ],
      "text/plain": [
       "     Temp_airport  RH_airport\n",
       "1 0     16.954802   99.485085\n",
       "  1     16.785714   99.724464\n",
       "  2     17.621212   99.134424\n",
       "  3     19.994536   93.237732\n",
       "  4     22.814516   72.741774"
      ]
     },
     "execution_count": 323,
     "metadata": {},
     "output_type": "execute_result"
    }
   ],
   "source": [
    "df_airport.head()"
   ]
  },
  {
   "cell_type": "code",
   "execution_count": 324,
   "metadata": {
    "collapsed": false
   },
   "outputs": [],
   "source": [
    "#df_airport = df_airport.reset_index()\n",
    "#df_paqs = df_paqs.reset_index()"
   ]
  },
  {
   "cell_type": "code",
   "execution_count": 325,
   "metadata": {
    "collapsed": false
   },
   "outputs": [],
   "source": [
    "#merge = pd.merge(df_paqs, df_airport, on='index')"
   ]
  },
  {
   "cell_type": "code",
   "execution_count": 326,
   "metadata": {
    "collapsed": false
   },
   "outputs": [
    {
     "data": {
      "text/html": [
       "<div>\n",
       "<table border=\"1\" class=\"dataframe\">\n",
       "  <thead>\n",
       "    <tr style=\"text-align: right;\">\n",
       "      <th></th>\n",
       "      <th></th>\n",
       "      <th>Temp_paqs</th>\n",
       "      <th>RH_paqs</th>\n",
       "      <th>Temp_airport</th>\n",
       "      <th>RH_airport</th>\n",
       "    </tr>\n",
       "  </thead>\n",
       "  <tbody>\n",
       "    <tr>\n",
       "      <th rowspan=\"5\" valign=\"top\">1</th>\n",
       "      <th>0</th>\n",
       "      <td>22.301684</td>\n",
       "      <td>66.430875</td>\n",
       "      <td>15.216667</td>\n",
       "      <td>99.390000</td>\n",
       "    </tr>\n",
       "    <tr>\n",
       "      <th>1</th>\n",
       "      <td>22.698600</td>\n",
       "      <td>64.493302</td>\n",
       "      <td>15.053571</td>\n",
       "      <td>99.776429</td>\n",
       "    </tr>\n",
       "    <tr>\n",
       "      <th>2</th>\n",
       "      <td>23.520563</td>\n",
       "      <td>61.566777</td>\n",
       "      <td>16.077381</td>\n",
       "      <td>99.021726</td>\n",
       "    </tr>\n",
       "    <tr>\n",
       "      <th>3</th>\n",
       "      <td>23.727815</td>\n",
       "      <td>61.023821</td>\n",
       "      <td>18.198925</td>\n",
       "      <td>93.019731</td>\n",
       "    </tr>\n",
       "    <tr>\n",
       "      <th>4</th>\n",
       "      <td>24.314214</td>\n",
       "      <td>58.438189</td>\n",
       "      <td>20.790323</td>\n",
       "      <td>73.840323</td>\n",
       "    </tr>\n",
       "  </tbody>\n",
       "</table>\n",
       "</div>"
      ],
      "text/plain": [
       "     Temp_paqs    RH_paqs  Temp_airport  RH_airport\n",
       "1 0  22.301684  66.430875     15.216667   99.390000\n",
       "  1  22.698600  64.493302     15.053571   99.776429\n",
       "  2  23.520563  61.566777     16.077381   99.021726\n",
       "  3  23.727815  61.023821     18.198925   93.019731\n",
       "  4  24.314214  58.438189     20.790323   73.840323"
      ]
     },
     "execution_count": 326,
     "metadata": {},
     "output_type": "execute_result"
    }
   ],
   "source": [
    "df_merged = df_merged.groupby([df_merged.index.month, df_merged.index.hour]).mean()\n",
    "df_merged.head()"
   ]
  },
  {
   "cell_type": "code",
   "execution_count": 327,
   "metadata": {
    "collapsed": false
   },
   "outputs": [
    {
     "data": {
      "text/html": [
       "<div>\n",
       "<table border=\"1\" class=\"dataframe\">\n",
       "  <thead>\n",
       "    <tr style=\"text-align: right;\">\n",
       "      <th></th>\n",
       "      <th>Temp_paqs</th>\n",
       "      <th>RH_paqs</th>\n",
       "      <th>Temp_airport</th>\n",
       "      <th>RH_airport</th>\n",
       "    </tr>\n",
       "  </thead>\n",
       "  <tbody>\n",
       "    <tr>\n",
       "      <th>count</th>\n",
       "      <td>288.000000</td>\n",
       "      <td>288.000000</td>\n",
       "      <td>288.000000</td>\n",
       "      <td>288.000000</td>\n",
       "    </tr>\n",
       "    <tr>\n",
       "      <th>mean</th>\n",
       "      <td>26.817306</td>\n",
       "      <td>57.109773</td>\n",
       "      <td>23.712235</td>\n",
       "      <td>69.569664</td>\n",
       "    </tr>\n",
       "    <tr>\n",
       "      <th>std</th>\n",
       "      <td>3.711302</td>\n",
       "      <td>13.739221</td>\n",
       "      <td>4.406110</td>\n",
       "      <td>22.973296</td>\n",
       "    </tr>\n",
       "    <tr>\n",
       "      <th>min</th>\n",
       "      <td>20.208184</td>\n",
       "      <td>22.560558</td>\n",
       "      <td>13.428571</td>\n",
       "      <td>19.661964</td>\n",
       "    </tr>\n",
       "    <tr>\n",
       "      <th>25%</th>\n",
       "      <td>24.211649</td>\n",
       "      <td>47.082349</td>\n",
       "      <td>20.932143</td>\n",
       "      <td>51.682540</td>\n",
       "    </tr>\n",
       "    <tr>\n",
       "      <th>50%</th>\n",
       "      <td>26.332041</td>\n",
       "      <td>58.578392</td>\n",
       "      <td>23.644892</td>\n",
       "      <td>72.021034</td>\n",
       "    </tr>\n",
       "    <tr>\n",
       "      <th>75%</th>\n",
       "      <td>28.835924</td>\n",
       "      <td>68.293589</td>\n",
       "      <td>26.844643</td>\n",
       "      <td>90.930049</td>\n",
       "    </tr>\n",
       "    <tr>\n",
       "      <th>max</th>\n",
       "      <td>39.184940</td>\n",
       "      <td>79.975599</td>\n",
       "      <td>34.714286</td>\n",
       "      <td>100.000000</td>\n",
       "    </tr>\n",
       "  </tbody>\n",
       "</table>\n",
       "</div>"
      ],
      "text/plain": [
       "        Temp_paqs     RH_paqs  Temp_airport  RH_airport\n",
       "count  288.000000  288.000000    288.000000  288.000000\n",
       "mean    26.817306   57.109773     23.712235   69.569664\n",
       "std      3.711302   13.739221      4.406110   22.973296\n",
       "min     20.208184   22.560558     13.428571   19.661964\n",
       "25%     24.211649   47.082349     20.932143   51.682540\n",
       "50%     26.332041   58.578392     23.644892   72.021034\n",
       "75%     28.835924   68.293589     26.844643   90.930049\n",
       "max     39.184940   79.975599     34.714286  100.000000"
      ]
     },
     "execution_count": 327,
     "metadata": {},
     "output_type": "execute_result"
    }
   ],
   "source": [
    "df_merged.describe()"
   ]
  },
  {
   "cell_type": "code",
   "execution_count": 328,
   "metadata": {
    "collapsed": true
   },
   "outputs": [],
   "source": [
    "df_merged.to_csv('..//datasets//10-Aug//mergedhourly.csv')"
   ]
  }
 ],
 "metadata": {
  "kernelspec": {
   "display_name": "Python 3",
   "language": "python",
   "name": "python3"
  },
  "language_info": {
   "codemirror_mode": {
    "name": "ipython",
    "version": 3
   },
   "file_extension": ".py",
   "mimetype": "text/x-python",
   "name": "python",
   "nbconvert_exporter": "python",
   "pygments_lexer": "ipython3",
   "version": "3.5.2"
  }
 },
 "nbformat": 4,
 "nbformat_minor": 2
}
