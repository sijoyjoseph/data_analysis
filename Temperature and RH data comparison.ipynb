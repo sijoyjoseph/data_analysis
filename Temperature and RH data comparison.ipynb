{
 "cells": [
  {
   "cell_type": "code",
   "execution_count": 79,
   "metadata": {
    "collapsed": false
   },
   "outputs": [
    {
     "data": {
      "text/html": [
       "<div>\n",
       "<table border=\"1\" class=\"dataframe\">\n",
       "  <thead>\n",
       "    <tr style=\"text-align: right;\">\n",
       "      <th></th>\n",
       "      <th>valid</th>\n",
       "      <th>tmpf</th>\n",
       "      <th>RH</th>\n",
       "    </tr>\n",
       "  </thead>\n",
       "  <tbody>\n",
       "    <tr>\n",
       "      <th>0</th>\n",
       "      <td>2016-01-01 00:00</td>\n",
       "      <td>66.20</td>\n",
       "      <td>100.00</td>\n",
       "    </tr>\n",
       "    <tr>\n",
       "      <th>1</th>\n",
       "      <td>2016-01-01 00:30</td>\n",
       "      <td>66.20</td>\n",
       "      <td>100.00</td>\n",
       "    </tr>\n",
       "    <tr>\n",
       "      <th>2</th>\n",
       "      <td>2016-01-01 01:00</td>\n",
       "      <td>66.20</td>\n",
       "      <td>100.00</td>\n",
       "    </tr>\n",
       "    <tr>\n",
       "      <th>3</th>\n",
       "      <td>2016-01-01 01:30</td>\n",
       "      <td>64.40</td>\n",
       "      <td>100.00</td>\n",
       "    </tr>\n",
       "    <tr>\n",
       "      <th>4</th>\n",
       "      <td>2016-01-01 02:00</td>\n",
       "      <td>66.20</td>\n",
       "      <td>100.00</td>\n",
       "    </tr>\n",
       "  </tbody>\n",
       "</table>\n",
       "</div>"
      ],
      "text/plain": [
       "              valid   tmpf      RH\n",
       "0  2016-01-01 00:00  66.20  100.00\n",
       "1  2016-01-01 00:30  66.20  100.00\n",
       "2  2016-01-01 01:00  66.20  100.00\n",
       "3  2016-01-01 01:30  64.40  100.00\n",
       "4  2016-01-01 02:00  66.20  100.00"
      ]
     },
     "execution_count": 79,
     "metadata": {},
     "output_type": "execute_result"
    }
   ],
   "source": [
    "from __future__ import division\n",
    "import matplotlib.pyplot as plt\n",
    "import pandas as pd\n",
    "import numpy as np\n",
    "import time\n",
    "import datetime\n",
    "\n",
    "DATA_DIR = '//home//anaconda//Documents//PAQS/DATA_ANALYSIS//datasets//'\n",
    "\n",
    "BNG_COLS = ['valid', 'tmpf', 'RH']\n",
    "BNG = DATA_DIR + '10-Aug//bangalore.csv'\n",
    "\n",
    "BNG_DATA = pd.read_csv(BNG, usecols=BNG_COLS)\n",
    "BNG_DATA.head()"
   ]
  },
  {
   "cell_type": "code",
   "execution_count": 80,
   "metadata": {
    "collapsed": false
   },
   "outputs": [
    {
     "data": {
      "text/html": [
       "<div>\n",
       "<table border=\"1\" class=\"dataframe\">\n",
       "  <thead>\n",
       "    <tr style=\"text-align: right;\">\n",
       "      <th></th>\n",
       "      <th>valid</th>\n",
       "      <th>tmpf</th>\n",
       "      <th>RH</th>\n",
       "    </tr>\n",
       "  </thead>\n",
       "  <tbody>\n",
       "    <tr>\n",
       "      <th>0</th>\n",
       "      <td>2016-01-01 00:00:00</td>\n",
       "      <td>19.0</td>\n",
       "      <td>100.0</td>\n",
       "    </tr>\n",
       "    <tr>\n",
       "      <th>1</th>\n",
       "      <td>2016-01-01 00:30:00</td>\n",
       "      <td>19.0</td>\n",
       "      <td>100.0</td>\n",
       "    </tr>\n",
       "    <tr>\n",
       "      <th>2</th>\n",
       "      <td>2016-01-01 01:00:00</td>\n",
       "      <td>19.0</td>\n",
       "      <td>100.0</td>\n",
       "    </tr>\n",
       "    <tr>\n",
       "      <th>3</th>\n",
       "      <td>2016-01-01 01:30:00</td>\n",
       "      <td>18.0</td>\n",
       "      <td>100.0</td>\n",
       "    </tr>\n",
       "    <tr>\n",
       "      <th>4</th>\n",
       "      <td>2016-01-01 02:00:00</td>\n",
       "      <td>19.0</td>\n",
       "      <td>100.0</td>\n",
       "    </tr>\n",
       "  </tbody>\n",
       "</table>\n",
       "</div>"
      ],
      "text/plain": [
       "                valid  tmpf     RH\n",
       "0 2016-01-01 00:00:00  19.0  100.0\n",
       "1 2016-01-01 00:30:00  19.0  100.0\n",
       "2 2016-01-01 01:00:00  19.0  100.0\n",
       "3 2016-01-01 01:30:00  18.0  100.0\n",
       "4 2016-01-01 02:00:00  19.0  100.0"
      ]
     },
     "execution_count": 80,
     "metadata": {},
     "output_type": "execute_result"
    }
   ],
   "source": [
    "# Replacing unprocessed results.\n",
    "BNG_DATA.replace(to_replace='M', value=0, inplace=True)\n",
    "BNG_DATA = BNG_DATA[BNG_DATA.tmpf != 0]\n",
    "# Fahrenhiet to Celsius conversion\n",
    "#T(Celsius) = (T(Fahrenheit) - 32) * (5/9)\n",
    "BNG_DATA['tmpf'] = BNG_DATA['tmpf'].apply(lambda x: ((float(x) - 32) * (5/9)))\n",
    "BNG_DATA['RH'] = BNG_DATA['RH'].apply(lambda x: float(x))\n",
    "BNG_DATA['valid'] = pd.to_datetime(BNG_DATA['valid'])\n",
    "BNG_DATA.head()"
   ]
  },
  {
   "cell_type": "code",
   "execution_count": 81,
   "metadata": {
    "collapsed": false
   },
   "outputs": [],
   "source": [
    "BNG_DATA = BNG_DATA.set_index('valid')\n",
    "BNG_DATA.index = BNG_DATA.index.tz_localize('Asia/Kolkata')\n",
    "BNG_DATA = BNG_DATA.resample('1H').mean()"
   ]
  },
  {
   "cell_type": "code",
   "execution_count": 82,
   "metadata": {
    "collapsed": false
   },
   "outputs": [
    {
     "data": {
      "text/html": [
       "<div>\n",
       "<table border=\"1\" class=\"dataframe\">\n",
       "  <thead>\n",
       "    <tr style=\"text-align: right;\">\n",
       "      <th></th>\n",
       "      <th>valid</th>\n",
       "      <th>tmpf</th>\n",
       "      <th>RH</th>\n",
       "    </tr>\n",
       "  </thead>\n",
       "  <tbody>\n",
       "    <tr>\n",
       "      <th>0</th>\n",
       "      <td>2016-01-01 00:00:00+05:30</td>\n",
       "      <td>19.0</td>\n",
       "      <td>100.000</td>\n",
       "    </tr>\n",
       "    <tr>\n",
       "      <th>1</th>\n",
       "      <td>2016-01-01 01:00:00+05:30</td>\n",
       "      <td>18.5</td>\n",
       "      <td>100.000</td>\n",
       "    </tr>\n",
       "    <tr>\n",
       "      <th>2</th>\n",
       "      <td>2016-01-01 02:00:00+05:30</td>\n",
       "      <td>19.0</td>\n",
       "      <td>100.000</td>\n",
       "    </tr>\n",
       "    <tr>\n",
       "      <th>3</th>\n",
       "      <td>2016-01-01 03:00:00+05:30</td>\n",
       "      <td>22.0</td>\n",
       "      <td>100.000</td>\n",
       "    </tr>\n",
       "    <tr>\n",
       "      <th>4</th>\n",
       "      <td>2016-01-01 04:00:00+05:30</td>\n",
       "      <td>23.5</td>\n",
       "      <td>83.425</td>\n",
       "    </tr>\n",
       "  </tbody>\n",
       "</table>\n",
       "</div>"
      ],
      "text/plain": [
       "                      valid  tmpf       RH\n",
       "0 2016-01-01 00:00:00+05:30  19.0  100.000\n",
       "1 2016-01-01 01:00:00+05:30  18.5  100.000\n",
       "2 2016-01-01 02:00:00+05:30  19.0  100.000\n",
       "3 2016-01-01 03:00:00+05:30  22.0  100.000\n",
       "4 2016-01-01 04:00:00+05:30  23.5   83.425"
      ]
     },
     "execution_count": 82,
     "metadata": {},
     "output_type": "execute_result"
    }
   ],
   "source": [
    "BNG_DATA = BNG_DATA.reset_index()\n",
    "BNG_DATA.head()"
   ]
  },
  {
   "cell_type": "code",
   "execution_count": 83,
   "metadata": {
    "collapsed": false
   },
   "outputs": [
    {
     "data": {
      "text/plain": [
       "valid    datetime64[ns, Asia/Kolkata]\n",
       "tmpf                          float64\n",
       "RH                            float64\n",
       "dtype: object"
      ]
     },
     "execution_count": 83,
     "metadata": {},
     "output_type": "execute_result"
    }
   ],
   "source": [
    "BNG_DATA.dtypes"
   ]
  },
  {
   "cell_type": "code",
   "execution_count": 84,
   "metadata": {
    "collapsed": false
   },
   "outputs": [
    {
     "data": {
      "text/html": [
       "<div>\n",
       "<table border=\"1\" class=\"dataframe\">\n",
       "  <thead>\n",
       "    <tr style=\"text-align: right;\">\n",
       "      <th></th>\n",
       "      <th>ts</th>\n",
       "      <th>temp</th>\n",
       "      <th>rh</th>\n",
       "    </tr>\n",
       "  </thead>\n",
       "  <tbody>\n",
       "    <tr>\n",
       "      <th>0</th>\n",
       "      <td>1464340928</td>\n",
       "      <td>31.40</td>\n",
       "      <td>43.96</td>\n",
       "    </tr>\n",
       "    <tr>\n",
       "      <th>1</th>\n",
       "      <td>1464340958</td>\n",
       "      <td>33.03</td>\n",
       "      <td>46.10</td>\n",
       "    </tr>\n",
       "    <tr>\n",
       "      <th>2</th>\n",
       "      <td>1464340987</td>\n",
       "      <td>33.08</td>\n",
       "      <td>46.43</td>\n",
       "    </tr>\n",
       "    <tr>\n",
       "      <th>3</th>\n",
       "      <td>1464341017</td>\n",
       "      <td>33.08</td>\n",
       "      <td>46.44</td>\n",
       "    </tr>\n",
       "    <tr>\n",
       "      <th>4</th>\n",
       "      <td>1464341047</td>\n",
       "      <td>33.08</td>\n",
       "      <td>46.44</td>\n",
       "    </tr>\n",
       "  </tbody>\n",
       "</table>\n",
       "</div>"
      ],
      "text/plain": [
       "           ts   temp     rh\n",
       "0  1464340928  31.40  43.96\n",
       "1  1464340958  33.03  46.10\n",
       "2  1464340987  33.08  46.43\n",
       "3  1464341017  33.08  46.44\n",
       "4  1464341047  33.08  46.44"
      ]
     },
     "execution_count": 84,
     "metadata": {},
     "output_type": "execute_result"
    }
   ],
   "source": [
    "# Load data for PAQS device\n",
    "fields = ['ts', 'temp', 'rh']\n",
    "LOC = DATA_DIR + '10-Aug//BANG_PAQS.csv'\n",
    "BNG_PAQS = pd.read_csv(LOC, usecols=fields)\n",
    "BNG_PAQS.head()"
   ]
  },
  {
   "cell_type": "code",
   "execution_count": 85,
   "metadata": {
    "collapsed": false
   },
   "outputs": [
    {
     "data": {
      "text/html": [
       "<div>\n",
       "<table border=\"1\" class=\"dataframe\">\n",
       "  <thead>\n",
       "    <tr style=\"text-align: right;\">\n",
       "      <th></th>\n",
       "      <th>temp</th>\n",
       "      <th>rh</th>\n",
       "    </tr>\n",
       "    <tr>\n",
       "      <th>ts</th>\n",
       "      <th></th>\n",
       "      <th></th>\n",
       "    </tr>\n",
       "  </thead>\n",
       "  <tbody>\n",
       "    <tr>\n",
       "      <th>2016-05-27 14:52:08+05:30</th>\n",
       "      <td>31.40</td>\n",
       "      <td>43.96</td>\n",
       "    </tr>\n",
       "    <tr>\n",
       "      <th>2016-05-27 14:52:38+05:30</th>\n",
       "      <td>33.03</td>\n",
       "      <td>46.10</td>\n",
       "    </tr>\n",
       "    <tr>\n",
       "      <th>2016-05-27 14:53:07+05:30</th>\n",
       "      <td>33.08</td>\n",
       "      <td>46.43</td>\n",
       "    </tr>\n",
       "    <tr>\n",
       "      <th>2016-05-27 14:53:37+05:30</th>\n",
       "      <td>33.08</td>\n",
       "      <td>46.44</td>\n",
       "    </tr>\n",
       "    <tr>\n",
       "      <th>2016-05-27 14:54:07+05:30</th>\n",
       "      <td>33.08</td>\n",
       "      <td>46.44</td>\n",
       "    </tr>\n",
       "  </tbody>\n",
       "</table>\n",
       "</div>"
      ],
      "text/plain": [
       "                            temp     rh\n",
       "ts                                     \n",
       "2016-05-27 14:52:08+05:30  31.40  43.96\n",
       "2016-05-27 14:52:38+05:30  33.03  46.10\n",
       "2016-05-27 14:53:07+05:30  33.08  46.43\n",
       "2016-05-27 14:53:37+05:30  33.08  46.44\n",
       "2016-05-27 14:54:07+05:30  33.08  46.44"
      ]
     },
     "execution_count": 85,
     "metadata": {},
     "output_type": "execute_result"
    }
   ],
   "source": [
    "BNG_PAQS['ts'] = pd.to_datetime(BNG_PAQS['ts'], unit='s')\n",
    "BNG_PAQS = BNG_PAQS.set_index(['ts'])\n",
    "BNG_PAQS.index = BNG_PAQS.index.tz_localize('UTC').tz_convert('Asia/Kolkata')\n",
    "BNG_PAQS.head()"
   ]
  },
  {
   "cell_type": "code",
   "execution_count": 86,
   "metadata": {
    "collapsed": false
   },
   "outputs": [
    {
     "data": {
      "text/html": [
       "<div>\n",
       "<table border=\"1\" class=\"dataframe\">\n",
       "  <thead>\n",
       "    <tr style=\"text-align: right;\">\n",
       "      <th></th>\n",
       "      <th>valid</th>\n",
       "      <th>temp</th>\n",
       "      <th>rh</th>\n",
       "    </tr>\n",
       "  </thead>\n",
       "  <tbody>\n",
       "    <tr>\n",
       "      <th>0</th>\n",
       "      <td>2016-05-27 14:52:08+05:30</td>\n",
       "      <td>31.40</td>\n",
       "      <td>43.96</td>\n",
       "    </tr>\n",
       "    <tr>\n",
       "      <th>1</th>\n",
       "      <td>2016-05-27 14:52:38+05:30</td>\n",
       "      <td>33.03</td>\n",
       "      <td>46.10</td>\n",
       "    </tr>\n",
       "    <tr>\n",
       "      <th>2</th>\n",
       "      <td>2016-05-27 14:53:07+05:30</td>\n",
       "      <td>33.08</td>\n",
       "      <td>46.43</td>\n",
       "    </tr>\n",
       "    <tr>\n",
       "      <th>3</th>\n",
       "      <td>2016-05-27 14:53:37+05:30</td>\n",
       "      <td>33.08</td>\n",
       "      <td>46.44</td>\n",
       "    </tr>\n",
       "    <tr>\n",
       "      <th>4</th>\n",
       "      <td>2016-05-27 14:54:07+05:30</td>\n",
       "      <td>33.08</td>\n",
       "      <td>46.44</td>\n",
       "    </tr>\n",
       "  </tbody>\n",
       "</table>\n",
       "</div>"
      ],
      "text/plain": [
       "                      valid   temp     rh\n",
       "0 2016-05-27 14:52:08+05:30  31.40  43.96\n",
       "1 2016-05-27 14:52:38+05:30  33.03  46.10\n",
       "2 2016-05-27 14:53:07+05:30  33.08  46.43\n",
       "3 2016-05-27 14:53:37+05:30  33.08  46.44\n",
       "4 2016-05-27 14:54:07+05:30  33.08  46.44"
      ]
     },
     "execution_count": 86,
     "metadata": {},
     "output_type": "execute_result"
    }
   ],
   "source": [
    "BNG_PAQS = BNG_PAQS.reset_index()\n",
    "BNG_PAQS = BNG_PAQS.rename(columns={'ts': 'valid'})\n",
    "BNG_PAQS.head()"
   ]
  },
  {
   "cell_type": "code",
   "execution_count": 87,
   "metadata": {
    "collapsed": false
   },
   "outputs": [
    {
     "data": {
      "text/html": [
       "<div>\n",
       "<table border=\"1\" class=\"dataframe\">\n",
       "  <thead>\n",
       "    <tr style=\"text-align: right;\">\n",
       "      <th></th>\n",
       "      <th>temp</th>\n",
       "      <th>rh</th>\n",
       "    </tr>\n",
       "    <tr>\n",
       "      <th>valid</th>\n",
       "      <th></th>\n",
       "      <th></th>\n",
       "    </tr>\n",
       "  </thead>\n",
       "  <tbody>\n",
       "    <tr>\n",
       "      <th>2016-05-27 14:00:00+05:30</th>\n",
       "      <td>32.964667</td>\n",
       "      <td>46.251333</td>\n",
       "    </tr>\n",
       "    <tr>\n",
       "      <th>2016-05-27 15:00:00+05:30</th>\n",
       "      <td>33.295862</td>\n",
       "      <td>46.150690</td>\n",
       "    </tr>\n",
       "    <tr>\n",
       "      <th>2016-05-27 16:00:00+05:30</th>\n",
       "      <td>33.770000</td>\n",
       "      <td>44.977049</td>\n",
       "    </tr>\n",
       "    <tr>\n",
       "      <th>2016-05-27 17:00:00+05:30</th>\n",
       "      <td>33.770000</td>\n",
       "      <td>43.060083</td>\n",
       "    </tr>\n",
       "    <tr>\n",
       "      <th>2016-05-27 18:00:00+05:30</th>\n",
       "      <td>33.770000</td>\n",
       "      <td>43.902131</td>\n",
       "    </tr>\n",
       "  </tbody>\n",
       "</table>\n",
       "</div>"
      ],
      "text/plain": [
       "                                temp         rh\n",
       "valid                                          \n",
       "2016-05-27 14:00:00+05:30  32.964667  46.251333\n",
       "2016-05-27 15:00:00+05:30  33.295862  46.150690\n",
       "2016-05-27 16:00:00+05:30  33.770000  44.977049\n",
       "2016-05-27 17:00:00+05:30  33.770000  43.060083\n",
       "2016-05-27 18:00:00+05:30  33.770000  43.902131"
      ]
     },
     "execution_count": 87,
     "metadata": {},
     "output_type": "execute_result"
    }
   ],
   "source": [
    "BNG_PAQS = BNG_PAQS.set_index('valid')\n",
    "BNG_PAQS = BNG_PAQS.resample('1H').mean()\n",
    "BNG_PAQS.head()"
   ]
  },
  {
   "cell_type": "code",
   "execution_count": 88,
   "metadata": {
    "collapsed": false
   },
   "outputs": [
    {
     "data": {
      "text/html": [
       "<div>\n",
       "<table border=\"1\" class=\"dataframe\">\n",
       "  <thead>\n",
       "    <tr style=\"text-align: right;\">\n",
       "      <th></th>\n",
       "      <th>valid</th>\n",
       "      <th>temp</th>\n",
       "      <th>rh</th>\n",
       "    </tr>\n",
       "  </thead>\n",
       "  <tbody>\n",
       "    <tr>\n",
       "      <th>0</th>\n",
       "      <td>2016-05-27 14:00:00+05:30</td>\n",
       "      <td>32.964667</td>\n",
       "      <td>46.251333</td>\n",
       "    </tr>\n",
       "    <tr>\n",
       "      <th>1</th>\n",
       "      <td>2016-05-27 15:00:00+05:30</td>\n",
       "      <td>33.295862</td>\n",
       "      <td>46.150690</td>\n",
       "    </tr>\n",
       "    <tr>\n",
       "      <th>2</th>\n",
       "      <td>2016-05-27 16:00:00+05:30</td>\n",
       "      <td>33.770000</td>\n",
       "      <td>44.977049</td>\n",
       "    </tr>\n",
       "    <tr>\n",
       "      <th>3</th>\n",
       "      <td>2016-05-27 17:00:00+05:30</td>\n",
       "      <td>33.770000</td>\n",
       "      <td>43.060083</td>\n",
       "    </tr>\n",
       "    <tr>\n",
       "      <th>4</th>\n",
       "      <td>2016-05-27 18:00:00+05:30</td>\n",
       "      <td>33.770000</td>\n",
       "      <td>43.902131</td>\n",
       "    </tr>\n",
       "  </tbody>\n",
       "</table>\n",
       "</div>"
      ],
      "text/plain": [
       "                      valid       temp         rh\n",
       "0 2016-05-27 14:00:00+05:30  32.964667  46.251333\n",
       "1 2016-05-27 15:00:00+05:30  33.295862  46.150690\n",
       "2 2016-05-27 16:00:00+05:30  33.770000  44.977049\n",
       "3 2016-05-27 17:00:00+05:30  33.770000  43.060083\n",
       "4 2016-05-27 18:00:00+05:30  33.770000  43.902131"
      ]
     },
     "execution_count": 88,
     "metadata": {},
     "output_type": "execute_result"
    }
   ],
   "source": [
    "BNG_PAQS = BNG_PAQS.reset_index()\n",
    "BNG_PAQS.head()"
   ]
  },
  {
   "cell_type": "code",
   "execution_count": 89,
   "metadata": {
    "collapsed": false
   },
   "outputs": [
    {
     "data": {
      "text/html": [
       "<div>\n",
       "<table border=\"1\" class=\"dataframe\">\n",
       "  <thead>\n",
       "    <tr style=\"text-align: right;\">\n",
       "      <th></th>\n",
       "      <th>valid</th>\n",
       "      <th>tmpf</th>\n",
       "      <th>RH</th>\n",
       "      <th>temp</th>\n",
       "      <th>rh</th>\n",
       "    </tr>\n",
       "  </thead>\n",
       "  <tbody>\n",
       "    <tr>\n",
       "      <th>0</th>\n",
       "      <td>2016-05-27 14:00:00+05:30</td>\n",
       "      <td>30.5</td>\n",
       "      <td>55.265</td>\n",
       "      <td>32.964667</td>\n",
       "      <td>46.251333</td>\n",
       "    </tr>\n",
       "    <tr>\n",
       "      <th>1</th>\n",
       "      <td>2016-05-27 15:00:00+05:30</td>\n",
       "      <td>28.5</td>\n",
       "      <td>65.965</td>\n",
       "      <td>33.295862</td>\n",
       "      <td>46.150690</td>\n",
       "    </tr>\n",
       "    <tr>\n",
       "      <th>2</th>\n",
       "      <td>2016-05-27 16:00:00+05:30</td>\n",
       "      <td>28.0</td>\n",
       "      <td>69.900</td>\n",
       "      <td>33.770000</td>\n",
       "      <td>44.977049</td>\n",
       "    </tr>\n",
       "    <tr>\n",
       "      <th>3</th>\n",
       "      <td>2016-05-27 17:00:00+05:30</td>\n",
       "      <td>28.0</td>\n",
       "      <td>69.900</td>\n",
       "      <td>33.770000</td>\n",
       "      <td>43.060083</td>\n",
       "    </tr>\n",
       "    <tr>\n",
       "      <th>4</th>\n",
       "      <td>2016-05-27 18:00:00+05:30</td>\n",
       "      <td>27.0</td>\n",
       "      <td>74.110</td>\n",
       "      <td>33.770000</td>\n",
       "      <td>43.902131</td>\n",
       "    </tr>\n",
       "  </tbody>\n",
       "</table>\n",
       "</div>"
      ],
      "text/plain": [
       "                      valid  tmpf      RH       temp         rh\n",
       "0 2016-05-27 14:00:00+05:30  30.5  55.265  32.964667  46.251333\n",
       "1 2016-05-27 15:00:00+05:30  28.5  65.965  33.295862  46.150690\n",
       "2 2016-05-27 16:00:00+05:30  28.0  69.900  33.770000  44.977049\n",
       "3 2016-05-27 17:00:00+05:30  28.0  69.900  33.770000  43.060083\n",
       "4 2016-05-27 18:00:00+05:30  27.0  74.110  33.770000  43.902131"
      ]
     },
     "execution_count": 89,
     "metadata": {},
     "output_type": "execute_result"
    }
   ],
   "source": [
    "merged = pd.merge(BNG_DATA, BNG_PAQS, on='valid', how='right')\n",
    "merged.head()"
   ]
  },
  {
   "cell_type": "code",
   "execution_count": 90,
   "metadata": {
    "collapsed": false
   },
   "outputs": [
    {
     "data": {
      "text/html": [
       "<div>\n",
       "<table border=\"1\" class=\"dataframe\">\n",
       "  <thead>\n",
       "    <tr style=\"text-align: right;\">\n",
       "      <th></th>\n",
       "      <th>valid</th>\n",
       "      <th>tmpf</th>\n",
       "      <th>RH</th>\n",
       "      <th>temp</th>\n",
       "      <th>rh</th>\n",
       "    </tr>\n",
       "  </thead>\n",
       "  <tbody>\n",
       "    <tr>\n",
       "      <th>0</th>\n",
       "      <td>2016-05-27 14:00:00+05:30</td>\n",
       "      <td>30.5</td>\n",
       "      <td>55.265</td>\n",
       "      <td>32.964667</td>\n",
       "      <td>46.251333</td>\n",
       "    </tr>\n",
       "    <tr>\n",
       "      <th>1</th>\n",
       "      <td>2016-05-27 15:00:00+05:30</td>\n",
       "      <td>28.5</td>\n",
       "      <td>65.965</td>\n",
       "      <td>33.295862</td>\n",
       "      <td>46.150690</td>\n",
       "    </tr>\n",
       "    <tr>\n",
       "      <th>2</th>\n",
       "      <td>2016-05-27 16:00:00+05:30</td>\n",
       "      <td>28.0</td>\n",
       "      <td>69.900</td>\n",
       "      <td>33.770000</td>\n",
       "      <td>44.977049</td>\n",
       "    </tr>\n",
       "    <tr>\n",
       "      <th>3</th>\n",
       "      <td>2016-05-27 17:00:00+05:30</td>\n",
       "      <td>28.0</td>\n",
       "      <td>69.900</td>\n",
       "      <td>33.770000</td>\n",
       "      <td>43.060083</td>\n",
       "    </tr>\n",
       "    <tr>\n",
       "      <th>4</th>\n",
       "      <td>2016-05-27 18:00:00+05:30</td>\n",
       "      <td>27.0</td>\n",
       "      <td>74.110</td>\n",
       "      <td>33.770000</td>\n",
       "      <td>43.902131</td>\n",
       "    </tr>\n",
       "  </tbody>\n",
       "</table>\n",
       "</div>"
      ],
      "text/plain": [
       "                      valid  tmpf      RH       temp         rh\n",
       "0 2016-05-27 14:00:00+05:30  30.5  55.265  32.964667  46.251333\n",
       "1 2016-05-27 15:00:00+05:30  28.5  65.965  33.295862  46.150690\n",
       "2 2016-05-27 16:00:00+05:30  28.0  69.900  33.770000  44.977049\n",
       "3 2016-05-27 17:00:00+05:30  28.0  69.900  33.770000  43.060083\n",
       "4 2016-05-27 18:00:00+05:30  27.0  74.110  33.770000  43.902131"
      ]
     },
     "execution_count": 90,
     "metadata": {},
     "output_type": "execute_result"
    }
   ],
   "source": [
    "merged = merged.dropna()\n",
    "merged.head()"
   ]
  },
  {
   "cell_type": "code",
   "execution_count": 91,
   "metadata": {
    "collapsed": false
   },
   "outputs": [
    {
     "data": {
      "text/html": [
       "<div>\n",
       "<table border=\"1\" class=\"dataframe\">\n",
       "  <thead>\n",
       "    <tr style=\"text-align: right;\">\n",
       "      <th></th>\n",
       "      <th>valid</th>\n",
       "      <th>tmpf</th>\n",
       "      <th>RH</th>\n",
       "      <th>temp</th>\n",
       "      <th>rh</th>\n",
       "      <th>temp_diff</th>\n",
       "      <th>rh_diff</th>\n",
       "    </tr>\n",
       "  </thead>\n",
       "  <tbody>\n",
       "    <tr>\n",
       "      <th>0</th>\n",
       "      <td>2016-05-27 14:00:00+05:30</td>\n",
       "      <td>30.5</td>\n",
       "      <td>55.265</td>\n",
       "      <td>32.964667</td>\n",
       "      <td>46.251333</td>\n",
       "      <td>2.464667</td>\n",
       "      <td>0.0</td>\n",
       "    </tr>\n",
       "    <tr>\n",
       "      <th>1</th>\n",
       "      <td>2016-05-27 15:00:00+05:30</td>\n",
       "      <td>28.5</td>\n",
       "      <td>65.965</td>\n",
       "      <td>33.295862</td>\n",
       "      <td>46.150690</td>\n",
       "      <td>4.795862</td>\n",
       "      <td>0.0</td>\n",
       "    </tr>\n",
       "    <tr>\n",
       "      <th>2</th>\n",
       "      <td>2016-05-27 16:00:00+05:30</td>\n",
       "      <td>28.0</td>\n",
       "      <td>69.900</td>\n",
       "      <td>33.770000</td>\n",
       "      <td>44.977049</td>\n",
       "      <td>5.770000</td>\n",
       "      <td>0.0</td>\n",
       "    </tr>\n",
       "    <tr>\n",
       "      <th>3</th>\n",
       "      <td>2016-05-27 17:00:00+05:30</td>\n",
       "      <td>28.0</td>\n",
       "      <td>69.900</td>\n",
       "      <td>33.770000</td>\n",
       "      <td>43.060083</td>\n",
       "      <td>5.770000</td>\n",
       "      <td>0.0</td>\n",
       "    </tr>\n",
       "    <tr>\n",
       "      <th>4</th>\n",
       "      <td>2016-05-27 18:00:00+05:30</td>\n",
       "      <td>27.0</td>\n",
       "      <td>74.110</td>\n",
       "      <td>33.770000</td>\n",
       "      <td>43.902131</td>\n",
       "      <td>6.770000</td>\n",
       "      <td>0.0</td>\n",
       "    </tr>\n",
       "  </tbody>\n",
       "</table>\n",
       "</div>"
      ],
      "text/plain": [
       "                      valid  tmpf      RH       temp         rh  temp_diff  \\\n",
       "0 2016-05-27 14:00:00+05:30  30.5  55.265  32.964667  46.251333   2.464667   \n",
       "1 2016-05-27 15:00:00+05:30  28.5  65.965  33.295862  46.150690   4.795862   \n",
       "2 2016-05-27 16:00:00+05:30  28.0  69.900  33.770000  44.977049   5.770000   \n",
       "3 2016-05-27 17:00:00+05:30  28.0  69.900  33.770000  43.060083   5.770000   \n",
       "4 2016-05-27 18:00:00+05:30  27.0  74.110  33.770000  43.902131   6.770000   \n",
       "\n",
       "   rh_diff  \n",
       "0      0.0  \n",
       "1      0.0  \n",
       "2      0.0  \n",
       "3      0.0  \n",
       "4      0.0  "
      ]
     },
     "execution_count": 91,
     "metadata": {},
     "output_type": "execute_result"
    }
   ],
   "source": [
    "merged['temp_diff'] = merged['temp'].sub(merged['tmpf'], axis=0)\n",
    "merged['rh_diff'] = merged['rh'].sub(merged['rh'], axis=0)\n",
    "merged.head()"
   ]
  },
  {
   "cell_type": "code",
   "execution_count": 92,
   "metadata": {
    "collapsed": true
   },
   "outputs": [],
   "source": [
    "MERGE_LOC = DATA_DIR + '10-Aug//MERGED.csv'\n",
    "merged.to_csv(MERGE_LOC)"
   ]
  },
  {
   "cell_type": "code",
   "execution_count": null,
   "metadata": {
    "collapsed": true
   },
   "outputs": [],
   "source": []
  }
 ],
 "metadata": {
  "kernelspec": {
   "display_name": "Python 3",
   "language": "python",
   "name": "python3"
  },
  "language_info": {
   "codemirror_mode": {
    "name": "ipython",
    "version": 3
   },
   "file_extension": ".py",
   "mimetype": "text/x-python",
   "name": "python",
   "nbconvert_exporter": "python",
   "pygments_lexer": "ipython3",
   "version": "3.5.2"
  }
 },
 "nbformat": 4,
 "nbformat_minor": 2
}
